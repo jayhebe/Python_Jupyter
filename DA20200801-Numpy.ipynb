{
 "cells": [
  {
   "cell_type": "code",
   "execution_count": 1,
   "metadata": {},
   "outputs": [],
   "source": [
    "import numpy as np"
   ]
  },
  {
   "cell_type": "code",
   "execution_count": 104,
   "metadata": {},
   "outputs": [
    {
     "data": {
      "text/plain": [
       "array([1.5, 2. , 3. ])"
      ]
     },
     "metadata": {},
     "output_type": "display_data"
    },
    {
     "data": {
      "text/plain": [
       "array([[1, 2, 3],\n",
       "       [4, 5, 6]])"
      ]
     },
     "metadata": {},
     "output_type": "display_data"
    }
   ],
   "source": [
    "li1 = [1.5, 2, 3]\n",
    "li2 = [[1, 2, 3],\n",
    "      [4, 5, 6]]\n",
    "nd1 = np.array(li1)\n",
    "nd2 = np.array(li2)\n",
    "\n",
    "display(nd1)\n",
    "display(nd2)"
   ]
  },
  {
   "cell_type": "code",
   "execution_count": 6,
   "metadata": {},
   "outputs": [
    {
     "data": {
      "text/plain": [
       "array([[1, 2, 3],\n",
       "       [4, 5, 6]])"
      ]
     },
     "metadata": {},
     "output_type": "display_data"
    }
   ],
   "source": [
    "nd3 = np.array(li2, order=\"F\")\n",
    "display(nd3)"
   ]
  },
  {
   "cell_type": "code",
   "execution_count": 13,
   "metadata": {},
   "outputs": [
    {
     "name": "stdout",
     "output_type": "stream",
     "text": [
      "(3,) (2, 3) (2, 3)\n"
     ]
    }
   ],
   "source": [
    "print(nd1.shape, nd2.shape, nd3.shape)"
   ]
  },
  {
   "cell_type": "code",
   "execution_count": 14,
   "metadata": {},
   "outputs": [
    {
     "data": {
      "text/plain": [
       "2"
      ]
     },
     "metadata": {},
     "output_type": "display_data"
    },
    {
     "data": {
      "text/plain": [
       "(2, 3)"
      ]
     },
     "metadata": {},
     "output_type": "display_data"
    },
    {
     "data": {
      "text/plain": [
       "6"
      ]
     },
     "metadata": {},
     "output_type": "display_data"
    },
    {
     "data": {
      "text/plain": [
       "4"
      ]
     },
     "metadata": {},
     "output_type": "display_data"
    },
    {
     "data": {
      "text/plain": [
       "dtype('int32')"
      ]
     },
     "metadata": {},
     "output_type": "display_data"
    }
   ],
   "source": [
    "display(nd2.ndim)\n",
    "display(nd2.shape)\n",
    "display(nd2.size)\n",
    "display(nd2.itemsize)\n",
    "display(nd2.dtype)"
   ]
  },
  {
   "cell_type": "code",
   "execution_count": 150,
   "metadata": {},
   "outputs": [
    {
     "name": "stdout",
     "output_type": "stream",
     "text": [
      "1\n",
      "(3,)\n",
      "float64\n",
      "3\n",
      "8\n",
      "24\n"
     ]
    }
   ],
   "source": [
    "print(nd1.ndim)\n",
    "print(nd1.shape)\n",
    "print(nd1.dtype)\n",
    "print(nd1.size)\n",
    "print(nd1.itemsize)\n",
    "print(nd1.nbytes)"
   ]
  },
  {
   "cell_type": "code",
   "execution_count": 25,
   "metadata": {},
   "outputs": [
    {
     "data": {
      "text/plain": [
       "array(['1', '1.5', 'hehe', 'True'], dtype='<U32')"
      ]
     },
     "execution_count": 25,
     "metadata": {},
     "output_type": "execute_result"
    }
   ],
   "source": [
    "li3 = [1, 1.5, \"hehe\", True]\n",
    "nd3 = np.array(li3)\n",
    "nd3"
   ]
  },
  {
   "cell_type": "code",
   "execution_count": 27,
   "metadata": {},
   "outputs": [],
   "source": [
    "nd3.shape = (2, 2)"
   ]
  },
  {
   "cell_type": "code",
   "execution_count": 28,
   "metadata": {},
   "outputs": [
    {
     "data": {
      "text/plain": [
       "array([['1', '1.5'],\n",
       "       ['hehe', 'True']], dtype='<U32')"
      ]
     },
     "execution_count": 28,
     "metadata": {},
     "output_type": "execute_result"
    }
   ],
   "source": [
    "nd3"
   ]
  },
  {
   "cell_type": "code",
   "execution_count": 36,
   "metadata": {},
   "outputs": [
    {
     "data": {
      "text/plain": [
       "array([[0, 1, 2, 3, 4],\n",
       "       [5, 6, 7, 8, 9]])"
      ]
     },
     "execution_count": 36,
     "metadata": {},
     "output_type": "execute_result"
    }
   ],
   "source": [
    "np.arange(10).reshape((2, 5))"
   ]
  },
  {
   "cell_type": "code",
   "execution_count": 38,
   "metadata": {},
   "outputs": [
    {
     "data": {
      "text/plain": [
       "array([10, 12, 14, 16, 18, 20, 22, 24, 26, 28, 30, 32, 34, 36, 38])"
      ]
     },
     "execution_count": 38,
     "metadata": {},
     "output_type": "execute_result"
    }
   ],
   "source": [
    "np.arange(10, 40, 2)"
   ]
  },
  {
   "cell_type": "code",
   "execution_count": 46,
   "metadata": {},
   "outputs": [
    {
     "data": {
      "text/plain": [
       "array([ 1.,  3.,  5.,  7.,  9., 11., 13., 15., 17., 19., 21., 23., 25.,\n",
       "       27., 29., 31., 33., 35., 37., 39., 41., 43., 45., 47., 49., 51.,\n",
       "       53., 55., 57., 59., 61., 63., 65., 67., 69., 71., 73., 75., 77.,\n",
       "       79., 81., 83., 85., 87., 89., 91., 93., 95., 97., 99.])"
      ]
     },
     "execution_count": 46,
     "metadata": {},
     "output_type": "execute_result"
    }
   ],
   "source": [
    "np.linspace(1, 99)"
   ]
  },
  {
   "cell_type": "code",
   "execution_count": 49,
   "metadata": {},
   "outputs": [
    {
     "data": {
      "text/plain": [
       "array([1.e+01, 1.e+04, 1.e+07, 1.e+10, 1.e+13])"
      ]
     },
     "execution_count": 49,
     "metadata": {},
     "output_type": "execute_result"
    }
   ],
   "source": [
    "np.logspace(1, 16, num=5, endpoint=False)"
   ]
  },
  {
   "cell_type": "code",
   "execution_count": 54,
   "metadata": {},
   "outputs": [
    {
     "data": {
      "text/plain": [
       "array([[ 1,  2,  3,  4,  5],\n",
       "       [ 6,  7,  8,  9, 10],\n",
       "       [11, 12, 13, 14, 15],\n",
       "       [16, 17, 18, 19, 20],\n",
       "       [21, 22, 23, 24, 25]])"
      ]
     },
     "execution_count": 54,
     "metadata": {},
     "output_type": "execute_result"
    }
   ],
   "source": [
    "nd5 = np.arange(1, 26).reshape((5, 5))\n",
    "nd5"
   ]
  },
  {
   "cell_type": "code",
   "execution_count": 61,
   "metadata": {},
   "outputs": [
    {
     "data": {
      "text/plain": [
       "array([ 1,  7, 13, 19, 25])"
      ]
     },
     "metadata": {},
     "output_type": "display_data"
    },
    {
     "data": {
      "text/plain": [
       "array([ 2,  8, 14, 20])"
      ]
     },
     "metadata": {},
     "output_type": "display_data"
    },
    {
     "data": {
      "text/plain": [
       "array([ 6, 12, 18, 24])"
      ]
     },
     "metadata": {},
     "output_type": "display_data"
    }
   ],
   "source": [
    "display(np.diag(nd5))\n",
    "display(np.diag(nd5, k=1))\n",
    "display(np.diag(nd5, k=-1))"
   ]
  },
  {
   "cell_type": "code",
   "execution_count": 59,
   "metadata": {},
   "outputs": [
    {
     "data": {
      "text/plain": [
       "array([[0, 0, 0, 0, 0, 0],\n",
       "       [1, 0, 0, 0, 0, 0],\n",
       "       [0, 2, 0, 0, 0, 0],\n",
       "       [0, 0, 3, 0, 0, 0],\n",
       "       [0, 0, 0, 4, 0, 0],\n",
       "       [0, 0, 0, 0, 5, 0]])"
      ]
     },
     "execution_count": 59,
     "metadata": {},
     "output_type": "execute_result"
    }
   ],
   "source": [
    "np.diag([1, 2, 3, 4, 5], k=-1)"
   ]
  },
  {
   "cell_type": "code",
   "execution_count": 62,
   "metadata": {},
   "outputs": [],
   "source": [
    "np.diag?"
   ]
  },
  {
   "cell_type": "code",
   "execution_count": 68,
   "metadata": {},
   "outputs": [
    {
     "data": {
      "text/plain": [
       "array([0., 0., 0., 0., 0.])"
      ]
     },
     "metadata": {},
     "output_type": "display_data"
    },
    {
     "data": {
      "text/plain": [
       "array([[0., 0., 0., 0., 0.],\n",
       "       [0., 0., 0., 0., 0.],\n",
       "       [0., 0., 0., 0., 0.],\n",
       "       [0., 0., 0., 0., 0.],\n",
       "       [0., 0., 0., 0., 0.]])"
      ]
     },
     "metadata": {},
     "output_type": "display_data"
    },
    {
     "data": {
      "text/plain": [
       "array([[[0., 0., 0., 0., 0.],\n",
       "        [0., 0., 0., 0., 0.],\n",
       "        [0., 0., 0., 0., 0.]],\n",
       "\n",
       "       [[0., 0., 0., 0., 0.],\n",
       "        [0., 0., 0., 0., 0.],\n",
       "        [0., 0., 0., 0., 0.]]])"
      ]
     },
     "metadata": {},
     "output_type": "display_data"
    }
   ],
   "source": [
    "display(np.zeros((5, )))\n",
    "display(np.zeros((5, 5)))\n",
    "display(np.zeros((2, 3, 5)))"
   ]
  },
  {
   "cell_type": "code",
   "execution_count": 70,
   "metadata": {},
   "outputs": [
    {
     "data": {
      "text/plain": [
       "array([[0, 0, 0],\n",
       "       [0, 0, 0]])"
      ]
     },
     "execution_count": 70,
     "metadata": {},
     "output_type": "execute_result"
    }
   ],
   "source": [
    "np.zeros_like(nd2)"
   ]
  },
  {
   "cell_type": "code",
   "execution_count": 73,
   "metadata": {},
   "outputs": [
    {
     "data": {
      "text/plain": [
       "array([[0, 0, 0],\n",
       "       [0, 0, 0]])"
      ]
     },
     "execution_count": 73,
     "metadata": {},
     "output_type": "execute_result"
    }
   ],
   "source": [
    "np.zeros(nd2.shape, dtype=int)"
   ]
  },
  {
   "cell_type": "code",
   "execution_count": 75,
   "metadata": {},
   "outputs": [
    {
     "data": {
      "text/plain": [
       "array([[1., 1., 1., 1., 1.],\n",
       "       [1., 1., 1., 1., 1.],\n",
       "       [1., 1., 1., 1., 1.],\n",
       "       [1., 1., 1., 1., 1.],\n",
       "       [1., 1., 1., 1., 1.]])"
      ]
     },
     "execution_count": 75,
     "metadata": {},
     "output_type": "execute_result"
    }
   ],
   "source": [
    "np.ones((5, 5))"
   ]
  },
  {
   "cell_type": "code",
   "execution_count": 102,
   "metadata": {},
   "outputs": [
    {
     "data": {
      "text/plain": [
       "array([['he', 'he', 'he'],\n",
       "       ['he', 'he', 'he']], dtype='<U2')"
      ]
     },
     "execution_count": 102,
     "metadata": {},
     "output_type": "execute_result"
    }
   ],
   "source": [
    "np.full(nd2.shape, \"he\")"
   ]
  },
  {
   "cell_type": "code",
   "execution_count": 108,
   "metadata": {},
   "outputs": [
    {
     "data": {
      "text/plain": [
       "array([[1., 0., 0., 0., 0.],\n",
       "       [0., 1., 0., 0., 0.],\n",
       "       [0., 0., 1., 0., 0.],\n",
       "       [0., 0., 0., 1., 0.],\n",
       "       [0., 0., 0., 0., 1.]])"
      ]
     },
     "execution_count": 108,
     "metadata": {},
     "output_type": "execute_result"
    }
   ],
   "source": [
    "np.identity(5)"
   ]
  },
  {
   "cell_type": "code",
   "execution_count": 110,
   "metadata": {},
   "outputs": [
    {
     "data": {
      "text/plain": [
       "array([[0, 1, 0, 0, 0, 0],\n",
       "       [0, 0, 1, 0, 0, 0],\n",
       "       [0, 0, 0, 1, 0, 0],\n",
       "       [0, 0, 0, 0, 1, 0],\n",
       "       [0, 0, 0, 0, 0, 1]])"
      ]
     },
     "execution_count": 110,
     "metadata": {},
     "output_type": "execute_result"
    }
   ],
   "source": [
    "np.eye(5, 6, k=1, dtype=\"int32\")"
   ]
  },
  {
   "cell_type": "code",
   "execution_count": 106,
   "metadata": {},
   "outputs": [
    {
     "data": {
      "text/plain": [
       "array([[1, 1, 1],\n",
       "       [1, 1, 1]])"
      ]
     },
     "execution_count": 106,
     "metadata": {},
     "output_type": "execute_result"
    }
   ],
   "source": [
    "np.full_like(nd2, 1)"
   ]
  },
  {
   "cell_type": "code",
   "execution_count": 109,
   "metadata": {},
   "outputs": [],
   "source": [
    "np.eye?"
   ]
  },
  {
   "cell_type": "code",
   "execution_count": 131,
   "metadata": {},
   "outputs": [
    {
     "data": {
      "text/plain": [
       "array([[0.06636575, 0.51732547, 0.26669155, 0.41111383],\n",
       "       [0.34430679, 0.04251134, 0.61940273, 0.48127959]])"
      ]
     },
     "execution_count": 131,
     "metadata": {},
     "output_type": "execute_result"
    }
   ],
   "source": [
    "np.random.random(8).reshape((2, 4))"
   ]
  },
  {
   "cell_type": "code",
   "execution_count": 123,
   "metadata": {},
   "outputs": [
    {
     "data": {
      "text/plain": [
       "array([[0.39099003, 0.85981402, 0.57035725, 0.24815976, 0.32190469],\n",
       "       [0.65937606, 0.14979711, 0.5187385 , 0.1178939 , 0.53792383],\n",
       "       [0.76395289, 0.0743027 , 0.35945436, 0.81728109, 0.54413333]])"
      ]
     },
     "execution_count": 123,
     "metadata": {},
     "output_type": "execute_result"
    }
   ],
   "source": [
    "np.random.rand(3, 5)"
   ]
  },
  {
   "cell_type": "code",
   "execution_count": 125,
   "metadata": {},
   "outputs": [
    {
     "data": {
      "text/plain": [
       "array([[ 0.06136656,  0.42359674, -0.54382094,  2.12903231, -0.49941362],\n",
       "       [ 1.43646184,  0.37490108, -0.25632178,  1.99407274, -0.05576798],\n",
       "       [-0.63540279,  0.33159704, -0.77540964, -0.52714672, -1.06219599]])"
      ]
     },
     "execution_count": 125,
     "metadata": {},
     "output_type": "execute_result"
    }
   ],
   "source": [
    "np.random.randn(3, 5)"
   ]
  },
  {
   "cell_type": "code",
   "execution_count": 128,
   "metadata": {},
   "outputs": [
    {
     "data": {
      "text/plain": [
       "array([[29, 13, 68, 55],\n",
       "       [65, 49, 48,  8]])"
      ]
     },
     "execution_count": 128,
     "metadata": {},
     "output_type": "execute_result"
    }
   ],
   "source": [
    "np.random.randint(1, 100, (2, 4))"
   ]
  },
  {
   "cell_type": "code",
   "execution_count": 133,
   "metadata": {},
   "outputs": [
    {
     "data": {
      "text/plain": [
       "array([0.22199317, 0.87073231, 0.20671916, 0.91861091, 0.48841119,\n",
       "       0.61174386, 0.76590786, 0.51841799, 0.2968005 , 0.18772123])"
      ]
     },
     "execution_count": 133,
     "metadata": {},
     "output_type": "execute_result"
    }
   ],
   "source": [
    "np.random.seed(5)\n",
    "np.random.random(10)"
   ]
  },
  {
   "cell_type": "code",
   "execution_count": 197,
   "metadata": {},
   "outputs": [
    {
     "data": {
      "text/plain": [
       "array([0.10198849, 0.34397154, 0.82000126, 0.92464576, 0.75815227,\n",
       "       0.87908158, 0.85414501, 0.17044836, 0.58471732, 0.35069356])"
      ]
     },
     "execution_count": 197,
     "metadata": {},
     "output_type": "execute_result"
    }
   ],
   "source": [
    "a = np.random.random(10)\n",
    "a"
   ]
  },
  {
   "cell_type": "code",
   "execution_count": 198,
   "metadata": {},
   "outputs": [
    {
     "data": {
      "text/plain": [
       "array([0.34397154, 0.17044836, 0.82000126, 0.75815227, 0.87908158,\n",
       "       0.85414501, 0.58471732, 0.10198849, 0.35069356, 0.92464576])"
      ]
     },
     "execution_count": 198,
     "metadata": {},
     "output_type": "execute_result"
    }
   ],
   "source": [
    "np.random.shuffle(a)\n",
    "a"
   ]
  },
  {
   "cell_type": "code",
   "execution_count": 138,
   "metadata": {},
   "outputs": [
    {
     "name": "stdout",
     "output_type": "stream",
     "text": [
      "<U40\n",
      "int64\n"
     ]
    }
   ],
   "source": [
    "mytype = np.dtype([(\"name\", np.str_, 40), (\"num\", np.int64), (\"price\", np.float64)])\n",
    "\n",
    "print(mytype[\"name\"])\n",
    "print(np.dtype(mytype[\"num\"]))"
   ]
  },
  {
   "cell_type": "code",
   "execution_count": 140,
   "metadata": {},
   "outputs": [
    {
     "data": {
      "text/plain": [
       "array([('hehehe', 3, 4.14), ('lalala', 8, 1.72)],\n",
       "      dtype=[('name', '<U40'), ('num', '<i8'), ('price', '<f8')])"
      ]
     },
     "metadata": {},
     "output_type": "display_data"
    },
    {
     "data": {
      "text/plain": [
       "(2,)"
      ]
     },
     "metadata": {},
     "output_type": "display_data"
    }
   ],
   "source": [
    "item = np.array([(\"hehehe\", 3, 4.14), (\"lalala\", 8, 1.72)], dtype=mytype)\n",
    "display(item)\n",
    "display(item.shape)"
   ]
  },
  {
   "cell_type": "code",
   "execution_count": 151,
   "metadata": {},
   "outputs": [],
   "source": [
    "item = np.array([[\"hehehe\", 3, 4.14], [\"lalala\", 8, 1.72]])\n",
    "item\n",
    "np.random.shuffle?"
   ]
  },
  {
   "cell_type": "markdown",
   "metadata": {},
   "source": [
    "#### Properties\n",
    "* np.ndim\n",
    "* np.shape\n",
    "* np.size\n",
    "* np.itemsize\n",
    "* np.dtype\n",
    "* np.nbytes\n",
    "\n",
    "#### 1-dimension\n",
    "* np.arange\n",
    "* np.linspace\n",
    "* np.logspace\n",
    "* np.diag\n",
    "\n",
    "#### Multi-dimension\n",
    "* np.ones\n",
    "* np.ones_like\n",
    "* np.zeros\n",
    "* np.zeros_like\n",
    "* np.full\n",
    "* np.full_like - can only use int or float in the fill_value parameter.\n",
    "* np.identity\n",
    "* np.eye\n",
    "\n",
    "#### Random module\n",
    "* np.random.random(size)\n",
    "* np.random.rand(d0, d1, ...)\n",
    "* np.random.randn(d0, d1, ...)\n",
    "* np.random.randint(low, high, size)\n",
    "* np.random.seed(seed)\n",
    "* np.random.shuffle(array_like)"
   ]
  },
  {
   "cell_type": "code",
   "execution_count": 157,
   "metadata": {},
   "outputs": [
    {
     "data": {
      "text/plain": [
       "array([[0, 0, 0, 0, 0, 0, 0, 0],\n",
       "       [0, 0, 0, 0, 0, 0, 0, 0],\n",
       "       [0, 0, 0, 0, 0, 0, 0, 0],\n",
       "       [0, 0, 0, 0, 0, 0, 0, 0],\n",
       "       [0, 0, 0, 0, 0, 0, 0, 0],\n",
       "       [0, 0, 0, 0, 0, 0, 0, 0],\n",
       "       [0, 0, 0, 0, 0, 0, 0, 0],\n",
       "       [0, 0, 0, 0, 0, 0, 0, 0]])"
      ]
     },
     "execution_count": 157,
     "metadata": {},
     "output_type": "execute_result"
    }
   ],
   "source": [
    "chessboard = np.zeros((8, 8), dtype=int)\n",
    "chessboard"
   ]
  },
  {
   "cell_type": "code",
   "execution_count": 158,
   "metadata": {},
   "outputs": [],
   "source": [
    "for i in range(8):\n",
    "    for j in range(8):\n",
    "        if (i % 2 == 0 and j % 2 != 0) or (i % 2 != 0 and j % 2 == 0):\n",
    "            chessboard[i, j] = 1"
   ]
  },
  {
   "cell_type": "code",
   "execution_count": 160,
   "metadata": {},
   "outputs": [
    {
     "name": "stdout",
     "output_type": "stream",
     "text": [
      "[[0 1 0 1 0 1 0 1]\n",
      " [1 0 1 0 1 0 1 0]\n",
      " [0 1 0 1 0 1 0 1]\n",
      " [1 0 1 0 1 0 1 0]\n",
      " [0 1 0 1 0 1 0 1]\n",
      " [1 0 1 0 1 0 1 0]\n",
      " [0 1 0 1 0 1 0 1]\n",
      " [1 0 1 0 1 0 1 0]]\n"
     ]
    }
   ],
   "source": [
    "print(chessboard)"
   ]
  },
  {
   "cell_type": "code",
   "execution_count": 6,
   "metadata": {},
   "outputs": [
    {
     "data": {
      "text/plain": [
       "array([[0, 1, 0, 1, 0, 1, 0, 1],\n",
       "       [1, 0, 1, 0, 1, 0, 1, 0],\n",
       "       [0, 1, 0, 1, 0, 1, 0, 1],\n",
       "       [1, 0, 1, 0, 1, 0, 1, 0],\n",
       "       [0, 1, 0, 1, 0, 1, 0, 1],\n",
       "       [1, 0, 1, 0, 1, 0, 1, 0],\n",
       "       [0, 1, 0, 1, 0, 1, 0, 1],\n",
       "       [1, 0, 1, 0, 1, 0, 1, 0]])"
      ]
     },
     "execution_count": 6,
     "metadata": {},
     "output_type": "execute_result"
    }
   ],
   "source": [
    "a_chessboard = np.ones((8, 8), dtype=int)\n",
    "a_chessboard[::2, ::2] = 0\n",
    "a_chessboard[1::2, 1::2] = 0\n",
    "a_chessboard"
   ]
  },
  {
   "cell_type": "code",
   "execution_count": 170,
   "metadata": {},
   "outputs": [
    {
     "data": {
      "text/plain": [
       "array([[87, 73, 33, 16, 70],\n",
       "       [36, 63, 44,  1,  3],\n",
       "       [ 3, 92, 66, 46, 88],\n",
       "       [ 2, 24, 51, 87, 20],\n",
       "       [55, 25, 65, 78, 74],\n",
       "       [ 2, 10, 65, 24, 40]])"
      ]
     },
     "execution_count": 170,
     "metadata": {},
     "output_type": "execute_result"
    }
   ],
   "source": [
    "arr = np.random.randint(1, 100, (6, 5))\n",
    "arr"
   ]
  },
  {
   "cell_type": "code",
   "execution_count": 173,
   "metadata": {},
   "outputs": [
    {
     "data": {
      "text/plain": [
       "20"
      ]
     },
     "metadata": {},
     "output_type": "display_data"
    },
    {
     "data": {
      "text/plain": [
       "20"
      ]
     },
     "metadata": {},
     "output_type": "display_data"
    },
    {
     "data": {
      "text/plain": [
       "array([[36, 63, 44,  1,  3],\n",
       "       [ 2, 24, 51, 87, 20],\n",
       "       [55, 25, 65, 78, 74]])"
      ]
     },
     "metadata": {},
     "output_type": "display_data"
    },
    {
     "data": {
      "text/plain": [
       "array([[87, 73, 33, 16, 70],\n",
       "       [ 2, 24, 51, 87, 20],\n",
       "       [55, 25, 65, 78, 74]])"
      ]
     },
     "metadata": {},
     "output_type": "display_data"
    }
   ],
   "source": [
    "display(arr[3, 4])\n",
    "display(arr[3][4])\n",
    "display(arr[[1, 3, 4]])\n",
    "display(arr[[True, False, False, True, True, False]])"
   ]
  },
  {
   "cell_type": "code",
   "execution_count": 174,
   "metadata": {},
   "outputs": [
    {
     "data": {
      "text/plain": [
       "array([ 0,  1,  2,  3,  4,  5,  6,  7,  8,  9, 10, 11])"
      ]
     },
     "execution_count": 174,
     "metadata": {},
     "output_type": "execute_result"
    }
   ],
   "source": [
    "arr1 = np.arange(12)\n",
    "arr1"
   ]
  },
  {
   "cell_type": "code",
   "execution_count": 176,
   "metadata": {},
   "outputs": [
    {
     "data": {
      "text/plain": [
       "array([11, 10,  9,  8,  7,  6,  5,  4,  3,  2,  1,  0])"
      ]
     },
     "execution_count": 176,
     "metadata": {},
     "output_type": "execute_result"
    }
   ],
   "source": [
    "arr1[::-1]"
   ]
  },
  {
   "cell_type": "code",
   "execution_count": 180,
   "metadata": {},
   "outputs": [
    {
     "data": {
      "text/plain": [
       "array([[82, 92, 37, 98, 88],\n",
       "       [70, 37, 19, 35, 31],\n",
       "       [78, 98, 36, 30,  2],\n",
       "       [83, 21,  1, 35, 79],\n",
       "       [52, 31, 41, 75, 70],\n",
       "       [80, 54, 20, 47, 27]])"
      ]
     },
     "execution_count": 180,
     "metadata": {},
     "output_type": "execute_result"
    }
   ],
   "source": [
    "arr2 = np.random.randint(1, 100, (6, 5))\n",
    "arr2"
   ]
  },
  {
   "cell_type": "code",
   "execution_count": 181,
   "metadata": {},
   "outputs": [
    {
     "data": {
      "text/plain": [
       "array([[78, 98, 36, 30,  2],\n",
       "       [83, 21,  1, 35, 79],\n",
       "       [52, 31, 41, 75, 70],\n",
       "       [80, 54, 20, 47, 27]])"
      ]
     },
     "execution_count": 181,
     "metadata": {},
     "output_type": "execute_result"
    }
   ],
   "source": [
    "arr2[2:, :]"
   ]
  },
  {
   "cell_type": "code",
   "execution_count": 182,
   "metadata": {},
   "outputs": [
    {
     "data": {
      "text/plain": [
       "array([[78, 98, 36, 30,  2],\n",
       "       [83, 21,  1, 35, 79],\n",
       "       [52, 31, 41, 75, 70],\n",
       "       [80, 54, 20, 47, 27]])"
      ]
     },
     "execution_count": 182,
     "metadata": {},
     "output_type": "execute_result"
    }
   ],
   "source": [
    "arr2[2:][:]"
   ]
  },
  {
   "cell_type": "code",
   "execution_count": 183,
   "metadata": {},
   "outputs": [
    {
     "data": {
      "text/plain": [
       "array([30, 35, 75, 47])"
      ]
     },
     "execution_count": 183,
     "metadata": {},
     "output_type": "execute_result"
    }
   ],
   "source": [
    "arr2[2:, 3]"
   ]
  },
  {
   "cell_type": "code",
   "execution_count": 185,
   "metadata": {},
   "outputs": [
    {
     "data": {
      "text/plain": [
       "array([[78, 98, 30],\n",
       "       [83, 21, 35],\n",
       "       [52, 31, 75],\n",
       "       [80, 54, 47]])"
      ]
     },
     "execution_count": 185,
     "metadata": {},
     "output_type": "execute_result"
    }
   ],
   "source": [
    "arr2[2:, [0, 1, 3]]"
   ]
  },
  {
   "cell_type": "code",
   "execution_count": 193,
   "metadata": {},
   "outputs": [],
   "source": [
    "arr2.resize((3, 10))"
   ]
  },
  {
   "cell_type": "code",
   "execution_count": 194,
   "metadata": {},
   "outputs": [
    {
     "data": {
      "text/plain": [
       "array([[82, 92, 37, 98, 88, 70, 37, 19, 35, 31],\n",
       "       [78, 98, 36, 30,  2, 83, 21,  1, 35, 79],\n",
       "       [52, 31, 41, 75, 70, 80, 54, 20, 47, 27]])"
      ]
     },
     "execution_count": 194,
     "metadata": {},
     "output_type": "execute_result"
    }
   ],
   "source": [
    "arr2"
   ]
  },
  {
   "cell_type": "code",
   "execution_count": 195,
   "metadata": {},
   "outputs": [
    {
     "data": {
      "text/plain": [
       "array([[82, 92, 37],\n",
       "       [98, 88, 70],\n",
       "       [37, 19, 35],\n",
       "       [31, 78, 98],\n",
       "       [36, 30,  2],\n",
       "       [83, 21,  1],\n",
       "       [35, 79, 52],\n",
       "       [31, 41, 75],\n",
       "       [70, 80, 54],\n",
       "       [20, 47, 27]])"
      ]
     },
     "execution_count": 195,
     "metadata": {},
     "output_type": "execute_result"
    }
   ],
   "source": [
    "arr2.reshape((10, 3))"
   ]
  },
  {
   "cell_type": "code",
   "execution_count": 196,
   "metadata": {},
   "outputs": [
    {
     "data": {
      "text/plain": [
       "array([[82, 92, 37, 98, 88, 70, 37, 19, 35, 31],\n",
       "       [78, 98, 36, 30,  2, 83, 21,  1, 35, 79],\n",
       "       [52, 31, 41, 75, 70, 80, 54, 20, 47, 27]])"
      ]
     },
     "execution_count": 196,
     "metadata": {},
     "output_type": "execute_result"
    }
   ],
   "source": [
    "arr2"
   ]
  },
  {
   "cell_type": "code",
   "execution_count": 204,
   "metadata": {},
   "outputs": [
    {
     "data": {
      "text/plain": [
       "array([[80, 18, 88, 12, 31, 27],\n",
       "       [ 9, 52, 62, 85, 53, 75],\n",
       "       [26, 10, 32, 40, 60, 23],\n",
       "       [81, 59, 45, 16, 16, 96],\n",
       "       [78, 82, 58, 47, 20, 46]])"
      ]
     },
     "execution_count": 204,
     "metadata": {},
     "output_type": "execute_result"
    }
   ],
   "source": [
    "a = np.random.randint(1, 100, 30).reshape((5, 6))\n",
    "a"
   ]
  },
  {
   "cell_type": "code",
   "execution_count": 206,
   "metadata": {},
   "outputs": [
    {
     "data": {
      "text/plain": [
       "array([80, 18, 88, 12, 31, 27,  9, 52, 62, 85, 53, 75, 26, 10, 32, 40, 60,\n",
       "       23, 81, 59, 45, 16, 16, 96, 78, 82, 58, 47, 20, 46])"
      ]
     },
     "execution_count": 206,
     "metadata": {},
     "output_type": "execute_result"
    }
   ],
   "source": [
    "b = a.ravel()\n",
    "b"
   ]
  },
  {
   "cell_type": "code",
   "execution_count": 207,
   "metadata": {},
   "outputs": [],
   "source": [
    "b.resize((3, 10))"
   ]
  },
  {
   "cell_type": "code",
   "execution_count": 208,
   "metadata": {},
   "outputs": [
    {
     "data": {
      "text/plain": [
       "array([[80, 18, 88, 12, 31, 27],\n",
       "       [ 9, 52, 62, 85, 53, 75],\n",
       "       [26, 10, 32, 40, 60, 23],\n",
       "       [81, 59, 45, 16, 16, 96],\n",
       "       [78, 82, 58, 47, 20, 46]])"
      ]
     },
     "execution_count": 208,
     "metadata": {},
     "output_type": "execute_result"
    }
   ],
   "source": [
    "a"
   ]
  },
  {
   "cell_type": "code",
   "execution_count": 209,
   "metadata": {},
   "outputs": [
    {
     "data": {
      "text/plain": [
       "array([[80, 18, 88, 12, 31, 27,  9, 52, 62, 85],\n",
       "       [53, 75, 26, 10, 32, 40, 60, 23, 81, 59],\n",
       "       [45, 16, 16, 96, 78, 82, 58, 47, 20, 46]])"
      ]
     },
     "execution_count": 209,
     "metadata": {},
     "output_type": "execute_result"
    }
   ],
   "source": [
    "b"
   ]
  },
  {
   "cell_type": "code",
   "execution_count": 210,
   "metadata": {},
   "outputs": [],
   "source": [
    "c = a.flatten()"
   ]
  },
  {
   "cell_type": "code",
   "execution_count": 211,
   "metadata": {},
   "outputs": [
    {
     "data": {
      "text/plain": [
       "array([80, 18, 88, 12, 31, 27,  9, 52, 62, 85, 53, 75, 26, 10, 32, 40, 60,\n",
       "       23, 81, 59, 45, 16, 16, 96, 78, 82, 58, 47, 20, 46])"
      ]
     },
     "execution_count": 211,
     "metadata": {},
     "output_type": "execute_result"
    }
   ],
   "source": [
    "c"
   ]
  },
  {
   "cell_type": "code",
   "execution_count": 212,
   "metadata": {},
   "outputs": [
    {
     "data": {
      "text/plain": [
       "array([[80, 18, 88, 12, 31, 27],\n",
       "       [ 9, 52, 62, 85, 53, 75],\n",
       "       [26, 10, 32, 40, 60, 23],\n",
       "       [81, 59, 45, 16, 16, 96],\n",
       "       [78, 82, 58, 47, 20, 46]])"
      ]
     },
     "execution_count": 212,
     "metadata": {},
     "output_type": "execute_result"
    }
   ],
   "source": [
    "a"
   ]
  },
  {
   "cell_type": "code",
   "execution_count": 213,
   "metadata": {},
   "outputs": [],
   "source": [
    "c.resize((3, 10))"
   ]
  },
  {
   "cell_type": "code",
   "execution_count": 214,
   "metadata": {},
   "outputs": [
    {
     "data": {
      "text/plain": [
       "array([[80, 18, 88, 12, 31, 27,  9, 52, 62, 85],\n",
       "       [53, 75, 26, 10, 32, 40, 60, 23, 81, 59],\n",
       "       [45, 16, 16, 96, 78, 82, 58, 47, 20, 46]])"
      ]
     },
     "execution_count": 214,
     "metadata": {},
     "output_type": "execute_result"
    }
   ],
   "source": [
    "c"
   ]
  },
  {
   "cell_type": "code",
   "execution_count": 215,
   "metadata": {},
   "outputs": [
    {
     "data": {
      "text/plain": [
       "array([[80, 18, 88, 12, 31, 27],\n",
       "       [ 9, 52, 62, 85, 53, 75],\n",
       "       [26, 10, 32, 40, 60, 23],\n",
       "       [81, 59, 45, 16, 16, 96],\n",
       "       [78, 82, 58, 47, 20, 46]])"
      ]
     },
     "execution_count": 215,
     "metadata": {},
     "output_type": "execute_result"
    }
   ],
   "source": [
    "a"
   ]
  },
  {
   "cell_type": "code",
   "execution_count": 217,
   "metadata": {},
   "outputs": [],
   "source": [
    "b[0, 0] = 1"
   ]
  },
  {
   "cell_type": "code",
   "execution_count": 218,
   "metadata": {},
   "outputs": [
    {
     "data": {
      "text/plain": [
       "array([[ 1, 18, 88, 12, 31, 27,  9, 52, 62, 85],\n",
       "       [53, 75, 26, 10, 32, 40, 60, 23, 81, 59],\n",
       "       [45, 16, 16, 96, 78, 82, 58, 47, 20, 46]])"
      ]
     },
     "execution_count": 218,
     "metadata": {},
     "output_type": "execute_result"
    }
   ],
   "source": [
    "b"
   ]
  },
  {
   "cell_type": "code",
   "execution_count": 219,
   "metadata": {},
   "outputs": [
    {
     "data": {
      "text/plain": [
       "array([[ 1, 18, 88, 12, 31, 27],\n",
       "       [ 9, 52, 62, 85, 53, 75],\n",
       "       [26, 10, 32, 40, 60, 23],\n",
       "       [81, 59, 45, 16, 16, 96],\n",
       "       [78, 82, 58, 47, 20, 46]])"
      ]
     },
     "execution_count": 219,
     "metadata": {},
     "output_type": "execute_result"
    }
   ],
   "source": [
    "a"
   ]
  },
  {
   "cell_type": "code",
   "execution_count": 221,
   "metadata": {},
   "outputs": [],
   "source": [
    "c[0, 0] = 12"
   ]
  },
  {
   "cell_type": "code",
   "execution_count": 222,
   "metadata": {},
   "outputs": [
    {
     "data": {
      "text/plain": [
       "array([[12, 18, 88, 12, 31, 27,  9, 52, 62, 85],\n",
       "       [53, 75, 26, 10, 32, 40, 60, 23, 81, 59],\n",
       "       [45, 16, 16, 96, 78, 82, 58, 47, 20, 46]])"
      ]
     },
     "execution_count": 222,
     "metadata": {},
     "output_type": "execute_result"
    }
   ],
   "source": [
    "c"
   ]
  },
  {
   "cell_type": "code",
   "execution_count": 223,
   "metadata": {
    "scrolled": true
   },
   "outputs": [
    {
     "data": {
      "text/plain": [
       "array([[ 1, 18, 88, 12, 31, 27],\n",
       "       [ 9, 52, 62, 85, 53, 75],\n",
       "       [26, 10, 32, 40, 60, 23],\n",
       "       [81, 59, 45, 16, 16, 96],\n",
       "       [78, 82, 58, 47, 20, 46]])"
      ]
     },
     "execution_count": 223,
     "metadata": {},
     "output_type": "execute_result"
    }
   ],
   "source": [
    "a"
   ]
  },
  {
   "cell_type": "markdown",
   "metadata": {},
   "source": [
    "#### Array flattening\n",
    "* np.ravel - return the quotation of the array, if you modify the value in the new array, the original array is affected.\n",
    "* np.flatten - return the copy of the array, if you modify the value in the new array, the original one is not affected.\n",
    "\n",
    "#### Array concatenation\n",
    "* np.hstack - horizontal concatentation, equal to np.concatenate((x, y), axis=1)\n",
    "* np.vstack - vertical concatentation, equal to np.concatenate((x, y), axis=0)\n",
    "\n",
    "#### Aray split\n",
    "* np.hsplit - horizontal split, equal to np.split(x, num, axis=1)\n",
    "* np.vsplit - vertical concatentation, equal to np.split(x, num, axis=0)"
   ]
  },
  {
   "cell_type": "code",
   "execution_count": 270,
   "metadata": {},
   "outputs": [],
   "source": [
    "np.vsplit?"
   ]
  },
  {
   "cell_type": "code",
   "execution_count": 259,
   "metadata": {},
   "outputs": [
    {
     "data": {
      "text/plain": [
       "array([[45,  3, 35, 35, 21],\n",
       "       [21, 46, 34, 33,  2],\n",
       "       [ 7, 27, 15, 18, 27],\n",
       "       [33, 32, 26,  6, 39],\n",
       "       [42, 13, 16, 49, 39]])"
      ]
     },
     "metadata": {},
     "output_type": "display_data"
    },
    {
     "data": {
      "text/plain": [
       "array([[16, 18, 39, 44, 37, 46],\n",
       "       [29, 18, 17, 39, 10, 39],\n",
       "       [46, 46, 35, 27,  4,  6],\n",
       "       [ 7, 27, 19, 12, 31, 30],\n",
       "       [43, 34, 31, 30, 30, 48]])"
      ]
     },
     "metadata": {},
     "output_type": "display_data"
    }
   ],
   "source": [
    "x = np.random.randint(1, 50, 25).reshape((5, 5))\n",
    "y = np.random.randint(1, 50, 30).reshape((5, 6))\n",
    "display(x)\n",
    "display(y)"
   ]
  },
  {
   "cell_type": "code",
   "execution_count": 260,
   "metadata": {},
   "outputs": [
    {
     "data": {
      "text/plain": [
       "array([[45,  3, 35, 35, 21, 16, 18, 39, 44, 37, 46],\n",
       "       [21, 46, 34, 33,  2, 29, 18, 17, 39, 10, 39],\n",
       "       [ 7, 27, 15, 18, 27, 46, 46, 35, 27,  4,  6],\n",
       "       [33, 32, 26,  6, 39,  7, 27, 19, 12, 31, 30],\n",
       "       [42, 13, 16, 49, 39, 43, 34, 31, 30, 30, 48]])"
      ]
     },
     "execution_count": 260,
     "metadata": {},
     "output_type": "execute_result"
    }
   ],
   "source": [
    "np.hstack((x, y))"
   ]
  },
  {
   "cell_type": "code",
   "execution_count": 261,
   "metadata": {},
   "outputs": [
    {
     "data": {
      "text/plain": [
       "array([[45,  3, 35, 35, 21, 16, 18, 39, 44, 37, 46],\n",
       "       [21, 46, 34, 33,  2, 29, 18, 17, 39, 10, 39],\n",
       "       [ 7, 27, 15, 18, 27, 46, 46, 35, 27,  4,  6],\n",
       "       [33, 32, 26,  6, 39,  7, 27, 19, 12, 31, 30],\n",
       "       [42, 13, 16, 49, 39, 43, 34, 31, 30, 30, 48]])"
      ]
     },
     "execution_count": 261,
     "metadata": {},
     "output_type": "execute_result"
    }
   ],
   "source": [
    "np.concatenate((x, y), axis=1)"
   ]
  },
  {
   "cell_type": "code",
   "execution_count": 262,
   "metadata": {},
   "outputs": [
    {
     "data": {
      "text/plain": [
       "array([[16, 18, 39, 44, 37],\n",
       "       [46, 29, 18, 17, 39],\n",
       "       [10, 39, 46, 46, 35],\n",
       "       [27,  4,  6,  7, 27],\n",
       "       [19, 12, 31, 30, 43],\n",
       "       [34, 31, 30, 30, 48]])"
      ]
     },
     "execution_count": 262,
     "metadata": {},
     "output_type": "execute_result"
    }
   ],
   "source": [
    "y.resize((6, 5))\n",
    "y"
   ]
  },
  {
   "cell_type": "code",
   "execution_count": 263,
   "metadata": {},
   "outputs": [
    {
     "data": {
      "text/plain": [
       "array([[45,  3, 35, 35, 21],\n",
       "       [21, 46, 34, 33,  2],\n",
       "       [ 7, 27, 15, 18, 27],\n",
       "       [33, 32, 26,  6, 39],\n",
       "       [42, 13, 16, 49, 39],\n",
       "       [16, 18, 39, 44, 37],\n",
       "       [46, 29, 18, 17, 39],\n",
       "       [10, 39, 46, 46, 35],\n",
       "       [27,  4,  6,  7, 27],\n",
       "       [19, 12, 31, 30, 43],\n",
       "       [34, 31, 30, 30, 48]])"
      ]
     },
     "execution_count": 263,
     "metadata": {},
     "output_type": "execute_result"
    }
   ],
   "source": [
    "np.vstack((x, y))"
   ]
  },
  {
   "cell_type": "code",
   "execution_count": 264,
   "metadata": {},
   "outputs": [
    {
     "data": {
      "text/plain": [
       "array([[45,  3, 35, 35, 21],\n",
       "       [21, 46, 34, 33,  2],\n",
       "       [ 7, 27, 15, 18, 27],\n",
       "       [33, 32, 26,  6, 39],\n",
       "       [42, 13, 16, 49, 39],\n",
       "       [16, 18, 39, 44, 37],\n",
       "       [46, 29, 18, 17, 39],\n",
       "       [10, 39, 46, 46, 35],\n",
       "       [27,  4,  6,  7, 27],\n",
       "       [19, 12, 31, 30, 43],\n",
       "       [34, 31, 30, 30, 48]])"
      ]
     },
     "execution_count": 264,
     "metadata": {},
     "output_type": "execute_result"
    }
   ],
   "source": [
    "np.concatenate((x, y), axis=0)"
   ]
  },
  {
   "cell_type": "code",
   "execution_count": 265,
   "metadata": {},
   "outputs": [
    {
     "data": {
      "text/plain": [
       "array([[16, 18, 39, 44, 37, 46],\n",
       "       [29, 18, 17, 39, 10, 39],\n",
       "       [46, 46, 35, 27,  4,  6],\n",
       "       [ 7, 27, 19, 12, 31, 30],\n",
       "       [43, 34, 31, 30, 30, 48]])"
      ]
     },
     "execution_count": 265,
     "metadata": {},
     "output_type": "execute_result"
    }
   ],
   "source": [
    "z = y.reshape((5, 6))\n",
    "z"
   ]
  },
  {
   "cell_type": "code",
   "execution_count": 266,
   "metadata": {},
   "outputs": [
    {
     "data": {
      "text/plain": [
       "[array([[16, 18, 39],\n",
       "        [29, 18, 17],\n",
       "        [46, 46, 35],\n",
       "        [ 7, 27, 19],\n",
       "        [43, 34, 31]]),\n",
       " array([[44, 37, 46],\n",
       "        [39, 10, 39],\n",
       "        [27,  4,  6],\n",
       "        [12, 31, 30],\n",
       "        [30, 30, 48]])]"
      ]
     },
     "execution_count": 266,
     "metadata": {},
     "output_type": "execute_result"
    }
   ],
   "source": [
    "np.hsplit(z, 2)"
   ]
  },
  {
   "cell_type": "code",
   "execution_count": 267,
   "metadata": {},
   "outputs": [],
   "source": [
    "y1, y2 = np.vsplit(y, 2)"
   ]
  },
  {
   "cell_type": "code",
   "execution_count": 268,
   "metadata": {},
   "outputs": [
    {
     "data": {
      "text/plain": [
       "array([[16, 18, 39, 44, 37],\n",
       "       [46, 29, 18, 17, 39],\n",
       "       [10, 39, 46, 46, 35]])"
      ]
     },
     "metadata": {},
     "output_type": "display_data"
    },
    {
     "data": {
      "text/plain": [
       "array([[27,  4,  6,  7, 27],\n",
       "       [19, 12, 31, 30, 43],\n",
       "       [34, 31, 30, 30, 48]])"
      ]
     },
     "metadata": {},
     "output_type": "display_data"
    }
   ],
   "source": [
    "display(y1)\n",
    "display(y2)"
   ]
  },
  {
   "cell_type": "code",
   "execution_count": 276,
   "metadata": {},
   "outputs": [],
   "source": [
    "matr1 = np.mat(\"1 2 3;4 5 6;7 8 9\")\n",
    "matr2 = np.matrix([[1, 2, 3],[4, 5, 6],[7, 8, 9]])\n",
    "matr3 = np.matrix(\"1 2 3;4 5 6;7 8 9\", copy=False)"
   ]
  },
  {
   "cell_type": "code",
   "execution_count": 277,
   "metadata": {},
   "outputs": [
    {
     "data": {
      "text/plain": [
       "matrix([[1, 2, 3],\n",
       "        [4, 5, 6],\n",
       "        [7, 8, 9]])"
      ]
     },
     "metadata": {},
     "output_type": "display_data"
    },
    {
     "data": {
      "text/plain": [
       "matrix([[1, 2, 3],\n",
       "        [4, 5, 6],\n",
       "        [7, 8, 9]])"
      ]
     },
     "metadata": {},
     "output_type": "display_data"
    },
    {
     "data": {
      "text/plain": [
       "matrix([[1, 2, 3],\n",
       "        [4, 5, 6],\n",
       "        [7, 8, 9]])"
      ]
     },
     "metadata": {},
     "output_type": "display_data"
    }
   ],
   "source": [
    "display(matr1)\n",
    "display(matr2)\n",
    "display(matr3)"
   ]
  },
  {
   "cell_type": "code",
   "execution_count": 275,
   "metadata": {},
   "outputs": [],
   "source": [
    "np.mat?"
   ]
  },
  {
   "cell_type": "code",
   "execution_count": 293,
   "metadata": {},
   "outputs": [
    {
     "data": {
      "text/plain": [
       "array([[3, 1, 4],\n",
       "       [8, 3, 9],\n",
       "       [9, 1, 4]])"
      ]
     },
     "metadata": {},
     "output_type": "display_data"
    },
    {
     "data": {
      "text/plain": [
       "array([7, 6, 1])"
      ]
     },
     "metadata": {},
     "output_type": "display_data"
    }
   ],
   "source": [
    "aa = np.random.randint(1, 10, 9).reshape((3, 3))\n",
    "bb = np.random.randint(1, 10, 3)\n",
    "display(aa)\n",
    "display(bb)"
   ]
  },
  {
   "cell_type": "code",
   "execution_count": 294,
   "metadata": {},
   "outputs": [
    {
     "data": {
      "text/plain": [
       "array([[10,  7,  5],\n",
       "       [15,  9, 10],\n",
       "       [16,  7,  5]])"
      ]
     },
     "execution_count": 294,
     "metadata": {},
     "output_type": "execute_result"
    }
   ],
   "source": [
    "np.add(aa, bb)"
   ]
  },
  {
   "cell_type": "code",
   "execution_count": 295,
   "metadata": {},
   "outputs": [
    {
     "data": {
      "text/plain": [
       "array([1, 2, 3])"
      ]
     },
     "metadata": {},
     "output_type": "display_data"
    },
    {
     "data": {
      "text/plain": [
       "array([[1],\n",
       "       [2],\n",
       "       [3]])"
      ]
     },
     "metadata": {},
     "output_type": "display_data"
    }
   ],
   "source": [
    "xx = np.array([1, 2, 3])\n",
    "yy = np.array([[1], [2], [3]])\n",
    "display(xx)\n",
    "display(yy)"
   ]
  },
  {
   "cell_type": "code",
   "execution_count": 296,
   "metadata": {},
   "outputs": [
    {
     "data": {
      "text/plain": [
       "array([[2, 3, 4],\n",
       "       [3, 4, 5],\n",
       "       [4, 5, 6]])"
      ]
     },
     "execution_count": 296,
     "metadata": {},
     "output_type": "execute_result"
    }
   ],
   "source": [
    "xx + yy"
   ]
  },
  {
   "cell_type": "code",
   "execution_count": 297,
   "metadata": {},
   "outputs": [
    {
     "data": {
      "text/plain": [
       "'C:\\\\Users\\\\PSPX_a_JIAGAO\\\\Documents\\\\Programming\\\\Python\\\\Python_Jupyter'"
      ]
     },
     "execution_count": 297,
     "metadata": {},
     "output_type": "execute_result"
    }
   ],
   "source": [
    "import os\n",
    "\n",
    "os.getcwd()"
   ]
  },
  {
   "cell_type": "code",
   "execution_count": 299,
   "metadata": {},
   "outputs": [],
   "source": [
    "np.savez(r\".\\testz.npy\", aa, bb, xx, yy)"
   ]
  },
  {
   "cell_type": "code",
   "execution_count": 310,
   "metadata": {},
   "outputs": [
    {
     "data": {
      "text/plain": [
       "array([[ 1, 18, 88, 12, 31, 27],\n",
       "       [ 9, 52, 62, 85, 53, 75],\n",
       "       [26, 10, 32, 40, 60, 23],\n",
       "       [81, 59, 45, 16, 16, 96],\n",
       "       [78, 82, 58, 47, 20, 46]])"
      ]
     },
     "execution_count": 310,
     "metadata": {},
     "output_type": "execute_result"
    }
   ],
   "source": [
    "a"
   ]
  },
  {
   "cell_type": "code",
   "execution_count": 316,
   "metadata": {},
   "outputs": [
    {
     "data": {
      "text/plain": [
       "array([[ 1, 10, 32, 12, 16, 23],\n",
       "       [ 9, 18, 45, 16, 20, 27],\n",
       "       [26, 52, 58, 40, 31, 46],\n",
       "       [78, 59, 62, 47, 53, 75],\n",
       "       [81, 82, 88, 85, 60, 96]])"
      ]
     },
     "execution_count": 316,
     "metadata": {},
     "output_type": "execute_result"
    }
   ],
   "source": [
    "np.sort(a, axis=0)"
   ]
  },
  {
   "cell_type": "code",
   "execution_count": 311,
   "metadata": {},
   "outputs": [
    {
     "data": {
      "text/plain": [
       "array([[ 1, 12, 18, 27, 31, 88],\n",
       "       [ 9, 52, 53, 62, 75, 85],\n",
       "       [10, 23, 26, 32, 40, 60],\n",
       "       [16, 16, 45, 59, 81, 96],\n",
       "       [20, 46, 47, 58, 78, 82]])"
      ]
     },
     "execution_count": 311,
     "metadata": {},
     "output_type": "execute_result"
    }
   ],
   "source": [
    "np.sort(a, axis=1)"
   ]
  },
  {
   "cell_type": "code",
   "execution_count": 312,
   "metadata": {},
   "outputs": [
    {
     "data": {
      "text/plain": [
       "array([[0, 3, 1, 5, 4, 2],\n",
       "       [0, 1, 4, 2, 5, 3],\n",
       "       [1, 5, 0, 2, 3, 4],\n",
       "       [3, 4, 2, 1, 0, 5],\n",
       "       [4, 5, 3, 2, 0, 1]], dtype=int64)"
      ]
     },
     "execution_count": 312,
     "metadata": {},
     "output_type": "execute_result"
    }
   ],
   "source": [
    "np.argsort(a, axis=1)"
   ]
  },
  {
   "cell_type": "code",
   "execution_count": 317,
   "metadata": {},
   "outputs": [
    {
     "data": {
      "text/plain": [
       "array([[ 1, 12, 18, 27, 31, 88],\n",
       "       [ 9, 52, 53, 62, 75, 85],\n",
       "       [10, 23, 26, 32, 40, 60],\n",
       "       [16, 16, 45, 59, 81, 96],\n",
       "       [20, 46, 47, 58, 78, 82]])"
      ]
     },
     "execution_count": 317,
     "metadata": {},
     "output_type": "execute_result"
    }
   ],
   "source": [
    "np.sort(a)"
   ]
  },
  {
   "cell_type": "code",
   "execution_count": 321,
   "metadata": {},
   "outputs": [
    {
     "data": {
      "text/plain": [
       "array([[2, 0, 4, 6, 5, 3, 1]], dtype=int64)"
      ]
     },
     "execution_count": 321,
     "metadata": {},
     "output_type": "execute_result"
    }
   ],
   "source": [
    "aaa = [[1, 5, 1, 4, 3, 4, 4]]\n",
    "bbb = [[9, 4, 0, 4, 0, 2, 1]]\n",
    "np.lexsort((bbb, aaa))"
   ]
  },
  {
   "cell_type": "code",
   "execution_count": 322,
   "metadata": {},
   "outputs": [
    {
     "data": {
      "text/plain": [
       "array([[52, 13, 60, 26, 40, 34],\n",
       "       [25,  8, 69, 82, 70, 70],\n",
       "       [82, 21, 87,  2, 75, 71],\n",
       "       [49, 56, 52, 98, 40,  1],\n",
       "       [31, 43, 88, 72,  5, 63]])"
      ]
     },
     "metadata": {},
     "output_type": "display_data"
    },
    {
     "data": {
      "text/plain": [
       "array([[26, 18, 51, 64, 18, 74],\n",
       "       [ 2, 23, 34, 28, 83, 30],\n",
       "       [ 3, 63, 56, 11, 91, 54],\n",
       "       [89, 55, 10, 76, 50, 17],\n",
       "       [67, 74, 30, 61,  2, 78]])"
      ]
     },
     "metadata": {},
     "output_type": "display_data"
    }
   ],
   "source": [
    "arr1 = np.random.randint(1, 100, (5, 6))\n",
    "arr2 = np.random.randint(1, 100, (5, 6))\n",
    "display(arr1)\n",
    "display(arr2)"
   ]
  },
  {
   "cell_type": "code",
   "execution_count": 325,
   "metadata": {},
   "outputs": [
    {
     "data": {
      "text/plain": [
       "array([52, 13, 60, 26, 40, 34, 25,  8, 69, 82, 70, 70, 82, 21, 87,  2, 75,\n",
       "       71, 49, 56, 52, 98, 40,  1, 31, 43, 88, 72,  5, 63])"
      ]
     },
     "execution_count": 325,
     "metadata": {},
     "output_type": "execute_result"
    }
   ],
   "source": [
    "arr1.reshape((30,))"
   ]
  },
  {
   "cell_type": "code",
   "execution_count": 328,
   "metadata": {},
   "outputs": [],
   "source": [
    "arr3 = arr1.ravel()\n",
    "arr4 = arr2.flatten()"
   ]
  },
  {
   "cell_type": "code",
   "execution_count": 329,
   "metadata": {},
   "outputs": [
    {
     "data": {
      "text/plain": [
       "array([52, 13, 60, 26, 40, 34, 25,  8, 69, 82, 70, 70, 82, 21, 87,  2, 75,\n",
       "       71, 49, 56, 52, 98, 40,  1, 31, 43, 88, 72,  5, 63])"
      ]
     },
     "metadata": {},
     "output_type": "display_data"
    },
    {
     "data": {
      "text/plain": [
       "array([26, 18, 51, 64, 18, 74,  2, 23, 34, 28, 83, 30,  3, 63, 56, 11, 91,\n",
       "       54, 89, 55, 10, 76, 50, 17, 67, 74, 30, 61,  2, 78])"
      ]
     },
     "metadata": {},
     "output_type": "display_data"
    }
   ],
   "source": [
    "display(arr3)\n",
    "display(arr4)"
   ]
  },
  {
   "cell_type": "code",
   "execution_count": 331,
   "metadata": {},
   "outputs": [
    {
     "data": {
      "text/plain": [
       "array([[ 1, 13, 60, 26, 40, 34],\n",
       "       [25,  8, 69, 82, 70, 70],\n",
       "       [82, 21, 87,  2, 75, 71],\n",
       "       [49, 56, 52, 98, 40,  1],\n",
       "       [31, 43, 88, 72,  5, 63]])"
      ]
     },
     "metadata": {},
     "output_type": "display_data"
    },
    {
     "data": {
      "text/plain": [
       "array([[26, 18, 51, 64, 18, 74],\n",
       "       [ 2, 23, 34, 28, 83, 30],\n",
       "       [ 3, 63, 56, 11, 91, 54],\n",
       "       [89, 55, 10, 76, 50, 17],\n",
       "       [67, 74, 30, 61,  2, 78]])"
      ]
     },
     "metadata": {},
     "output_type": "display_data"
    }
   ],
   "source": [
    "arr3[0] = 1\n",
    "arr4[0] = 1\n",
    "display(arr1)\n",
    "display(arr2)"
   ]
  },
  {
   "cell_type": "code",
   "execution_count": 332,
   "metadata": {},
   "outputs": [
    {
     "data": {
      "text/plain": [
       "array([ 1, 25, 82, 49, 31, 13,  8, 21, 56, 43, 60, 69, 87, 52, 88, 26, 82,\n",
       "        2, 98, 72, 40, 70, 75, 40,  5, 34, 70, 71,  1, 63])"
      ]
     },
     "execution_count": 332,
     "metadata": {},
     "output_type": "execute_result"
    }
   ],
   "source": [
    "arr1.flatten(order=\"F\")"
   ]
  },
  {
   "cell_type": "code",
   "execution_count": 334,
   "metadata": {},
   "outputs": [
    {
     "data": {
      "text/plain": [
       "array([ 1,  2,  5,  8, 13, 21, 25, 26, 31, 34, 40, 43, 49, 52, 56, 60, 63,\n",
       "       69, 70, 71, 72, 75, 82, 87, 88, 98])"
      ]
     },
     "execution_count": 334,
     "metadata": {},
     "output_type": "execute_result"
    }
   ],
   "source": [
    "np.unique(arr1)"
   ]
  },
  {
   "cell_type": "code",
   "execution_count": 337,
   "metadata": {},
   "outputs": [
    {
     "data": {
      "text/plain": [
       "array([[ 1, 13, 60, 26, 40, 34,  1, 13, 60, 26, 40, 34,  1, 13, 60, 26,\n",
       "        40, 34],\n",
       "       [25,  8, 69, 82, 70, 70, 25,  8, 69, 82, 70, 70, 25,  8, 69, 82,\n",
       "        70, 70],\n",
       "       [82, 21, 87,  2, 75, 71, 82, 21, 87,  2, 75, 71, 82, 21, 87,  2,\n",
       "        75, 71],\n",
       "       [49, 56, 52, 98, 40,  1, 49, 56, 52, 98, 40,  1, 49, 56, 52, 98,\n",
       "        40,  1],\n",
       "       [31, 43, 88, 72,  5, 63, 31, 43, 88, 72,  5, 63, 31, 43, 88, 72,\n",
       "         5, 63]])"
      ]
     },
     "execution_count": 337,
     "metadata": {},
     "output_type": "execute_result"
    }
   ],
   "source": [
    "np.tile(arr1, 3)"
   ]
  },
  {
   "cell_type": "code",
   "execution_count": 344,
   "metadata": {},
   "outputs": [
    {
     "data": {
      "text/plain": [
       "array([ 1,  1,  1, 13, 13, 13, 60, 60, 60, 26, 26, 26, 40, 40, 40, 34, 34,\n",
       "       34, 25, 25, 25,  8,  8,  8, 69, 69, 69, 82, 82, 82, 70, 70, 70, 70,\n",
       "       70, 70, 82, 82, 82, 21, 21, 21, 87, 87, 87,  2,  2,  2, 75, 75, 75,\n",
       "       71, 71, 71, 49, 49, 49, 56, 56, 56, 52, 52, 52, 98, 98, 98, 40, 40,\n",
       "       40,  1,  1,  1, 31, 31, 31, 43, 43, 43, 88, 88, 88, 72, 72, 72,  5,\n",
       "        5,  5, 63, 63, 63])"
      ]
     },
     "execution_count": 344,
     "metadata": {},
     "output_type": "execute_result"
    }
   ],
   "source": [
    "arr1.repeat(3)"
   ]
  },
  {
   "cell_type": "code",
   "execution_count": 346,
   "metadata": {},
   "outputs": [
    {
     "data": {
      "text/plain": [
       "array([[ 1, 13, 60, 26, 40, 34],\n",
       "       [ 1, 13, 60, 26, 40, 34],\n",
       "       [ 1, 13, 60, 26, 40, 34],\n",
       "       [25,  8, 69, 82, 70, 70],\n",
       "       [25,  8, 69, 82, 70, 70],\n",
       "       [25,  8, 69, 82, 70, 70],\n",
       "       [82, 21, 87,  2, 75, 71],\n",
       "       [82, 21, 87,  2, 75, 71],\n",
       "       [82, 21, 87,  2, 75, 71],\n",
       "       [49, 56, 52, 98, 40,  1],\n",
       "       [49, 56, 52, 98, 40,  1],\n",
       "       [49, 56, 52, 98, 40,  1],\n",
       "       [31, 43, 88, 72,  5, 63],\n",
       "       [31, 43, 88, 72,  5, 63],\n",
       "       [31, 43, 88, 72,  5, 63]])"
      ]
     },
     "execution_count": 346,
     "metadata": {},
     "output_type": "execute_result"
    }
   ],
   "source": [
    "arr1.repeat(3, axis=0)"
   ]
  },
  {
   "cell_type": "code",
   "execution_count": 348,
   "metadata": {},
   "outputs": [
    {
     "data": {
      "text/plain": [
       "47.8"
      ]
     },
     "execution_count": 348,
     "metadata": {},
     "output_type": "execute_result"
    }
   ],
   "source": [
    "np.mean(arr1)"
   ]
  },
  {
   "cell_type": "code",
   "execution_count": 350,
   "metadata": {},
   "outputs": [
    {
     "data": {
      "text/plain": [
       "array([29.        , 54.        , 56.33333333, 49.33333333, 50.33333333])"
      ]
     },
     "execution_count": 350,
     "metadata": {},
     "output_type": "execute_result"
    }
   ],
   "source": [
    "np.mean(arr1, axis=1)"
   ]
  },
  {
   "cell_type": "code",
   "execution_count": 351,
   "metadata": {},
   "outputs": [
    {
     "data": {
      "text/plain": [
       "array([37.6, 28.2, 71.2, 56. , 46. , 47.8])"
      ]
     },
     "execution_count": 351,
     "metadata": {},
     "output_type": "execute_result"
    }
   ],
   "source": [
    "np.mean(arr1, axis=0)"
   ]
  },
  {
   "cell_type": "code",
   "execution_count": 352,
   "metadata": {},
   "outputs": [],
   "source": [
    "xxx = np.array([1, 2, 3])\n",
    "yyy = np.array([4, 5, 6])"
   ]
  },
  {
   "cell_type": "code",
   "execution_count": 353,
   "metadata": {},
   "outputs": [
    {
     "data": {
      "text/plain": [
       "array([1, 2, 3, 4, 5, 6])"
      ]
     },
     "execution_count": 353,
     "metadata": {},
     "output_type": "execute_result"
    }
   ],
   "source": [
    "np.hstack((xxx, yyy))"
   ]
  },
  {
   "cell_type": "code",
   "execution_count": 356,
   "metadata": {},
   "outputs": [
    {
     "data": {
      "text/plain": [
       "array([[2., 2., 2.],\n",
       "       [2., 2., 2.],\n",
       "       [2., 2., 2.]])"
      ]
     },
     "execution_count": 356,
     "metadata": {},
     "output_type": "execute_result"
    }
   ],
   "source": [
    "np.ones((3, 3)) + np.ones((3, ))"
   ]
  },
  {
   "cell_type": "code",
   "execution_count": null,
   "metadata": {},
   "outputs": [],
   "source": []
  },
  {
   "cell_type": "code",
   "execution_count": null,
   "metadata": {},
   "outputs": [],
   "source": []
  }
 ],
 "metadata": {
  "kernelspec": {
   "display_name": "Python 3",
   "language": "python",
   "name": "python3"
  },
  "language_info": {
   "codemirror_mode": {
    "name": "ipython",
    "version": 3
   },
   "file_extension": ".py",
   "mimetype": "text/x-python",
   "name": "python",
   "nbconvert_exporter": "python",
   "pygments_lexer": "ipython3",
   "version": "3.7.6"
  }
 },
 "nbformat": 4,
 "nbformat_minor": 4
}
